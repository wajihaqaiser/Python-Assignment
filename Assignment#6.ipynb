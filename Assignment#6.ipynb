{
 "cells": [
  {
   "cell_type": "markdown",
   "metadata": {},
   "source": [
    "### 1- Object-oriented programming (OOP) refers to a type of computer programming (software design) in which programmers define the data type of a data structure, and also the types of operations (functions) that can be applied to the data structure.In this way, the data structure becomes an object that includes both data and functions. In addition, programmers can create relationships between one object and another."
   ]
  },
  {
   "cell_type": "markdown",
   "metadata": {},
   "source": [
    "### 2- OOP provides a clear modular structure for programs.\n",
    "### It is good for defining abstract data types.\n",
    "### Implementation details are hidden from other modules and other modules has a clearly defined interface.\n",
    "### It is easy to maintain and modify existing code as new objects can be created with small differences to existing ones.\n",
    "### objects, methods, instance, message passing, inheritance are some important properties provided by these particular languages\n",
    "### encapsulation, polymorphism, abstraction are also counts in these fundamentals of programming language.\n",
    "### It implements real life scenario.\n",
    "### In OOP, programmer not only defines data types but also deals with operations applied for data structures."
   ]
  },
  {
   "cell_type": "markdown",
   "metadata": {},
   "source": [
    "### 3- Functions:\n",
    "\n",
    "### Functions have independent existence means they can be defined outside of the class. Ex:- main() function in C, C++ Language\n",
    "### Functions are defined in structured languages like Pascal,C and object based language like javaScript\n",
    "### Functions do not have any reference variable.\n",
    "### Functions are self describing unit of code.\n",
    "### All data that are passed to a function are explicitly passed.\n",
    "### Method:\n",
    "\n",
    "### Methods do not have independent existence they are always defined with in class. Ex:- main() method in C# Language that is defined with in a class\n",
    "### Methods are defined in object oriented languages like C#, Java\n",
    "### Methods are called using reference variable.\n",
    "### Methods are used to manipuate instance variable of a class."
   ]
  },
  {
   "cell_type": "markdown",
   "metadata": {},
   "source": [
    "### 4- Class:\n",
    "### A class is an entity that determines how an object will behave and what the object will contain. In other words, it is a blueprint or a set of instruction to build a specific type of object.\n",
    "### Object:\n",
    "### An object is nothing but a self-contained component which consists of methods and properties to make a particular type of data useful. Object determines the behavior of the class. When you send a message to an object, you are asking the object to invoke or execute one of its methods.From a programming point of view, an object can be a data structure, a variable or a function. It has a memory location allocated. The object is designed as class hierarchies."
   ]
  },
  {
   "cell_type": "code",
   "execution_count": 13,
   "metadata": {},
   "outputs": [
    {
     "name": "stdout",
     "output_type": "stream",
     "text": [
      "Corolla  ,  Black  ,  abc  ,  FULL  ,  80 km/hr\n",
      "Mehran , Grey  ,  xyz  ,  EMPTY  ,  70 km/hr\n",
      "Alto  ,  White  , mmm  ,  FULL  ,  60 km/hr\n",
      "Cultus  ,  Blue  ,  ggg  ,  Empty  ,  90 km/hr\n",
      "HiJet ,  Red  ,  xxx  ,  Full  ,  75 km/hr\n"
     ]
    }
   ],
   "source": [
    "class Car :\n",
    "    def __init__(self, name, color, model, status, speed):\n",
    "        self.name = name\n",
    "        self.color = color\n",
    "        self.model = model\n",
    "        self.status = status\n",
    "        self.speed = speed\n",
    "    \n",
    "c1=Car(\"Corolla\" , \"Black\" , \"abc\" , \"FULL\" , \"80 km/hr\")\n",
    "c2=Car(\"Mehran\" , \"Grey\" , \"xyz\" , \"EMPTY\" , \"70 km/hr\")\n",
    "c3=Car(\"Alto\" , \"White\" , \"mmm\" , \"FULL\" , \"60 km/hr\")\n",
    "c4=Car(\"Cultus\" , \"Blue\" , \"ggg\" , \"Empty\" , \"90 km/hr\")\n",
    "c5=Car(\"HiJet\" , \"Red\" , \"xxx\" , \"Full\" , \"75 km/hr\")\n",
    "\n",
    "\n",
    "print(c1.name, \" , \" ,c1.color, \" , \" , c1.model, \" , \" , c1.status, \" , \"  , c1.speed)\n",
    "print(c2.name,\",\" , c2.color,\" , \" , c2.model,\" , \" , c2.status,\" , \" ,c2.speed)\n",
    "print(c3.name,\" , \" , c3.color,\" ,\" , c3.model,\" , \" , c3.status,\" , \",c3.speed)\n",
    "print(c4.name,\" , \" ,c4.color,\" , \" , c4.model,\" , \" , c4.status,\" , \" , c4.speed)\n",
    "print(c5.name,\", \" , c5.color,\" , \" , c5.model,\" , \" , c5.status,\" , \" , c5.speed)\n",
    "\n",
    "\n",
    "\n"
   ]
  },
  {
   "cell_type": "code",
   "execution_count": null,
   "metadata": {},
   "outputs": [],
   "source": []
  }
 ],
 "metadata": {
  "kernelspec": {
   "display_name": "Python 3",
   "language": "python",
   "name": "python3"
  },
  "language_info": {
   "codemirror_mode": {
    "name": "ipython",
    "version": 3
   },
   "file_extension": ".py",
   "mimetype": "text/x-python",
   "name": "python",
   "nbconvert_exporter": "python",
   "pygments_lexer": "ipython3",
   "version": "3.7.3"
  }
 },
 "nbformat": 4,
 "nbformat_minor": 2
}
