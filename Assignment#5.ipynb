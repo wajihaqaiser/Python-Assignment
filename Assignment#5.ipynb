{
 "cells": [
  {
   "cell_type": "code",
   "execution_count": 123,
   "metadata": {},
   "outputs": [
    {
     "name": "stdout",
     "output_type": "stream",
     "text": [
      "factorial of 5 = 120\n",
      "factorial of 4 = 24\n"
     ]
    }
   ],
   "source": [
    "#factorial\n",
    "def factorial(num) :\n",
    "    factorial=1\n",
    "    \n",
    "    if num == 0 :\n",
    "        print(\"factorial of \" + str(num) + \" = \" + str(factorial))\n",
    "        \n",
    "    for i in range(1,num+1) :\n",
    "        factorial=factorial * i\n",
    "    print(\"factorial of \" + str(num) + \" = \" + str(factorial))\n",
    "    \n",
    "factorial(5)\n",
    "factorial(4)\n"
   ]
  },
  {
   "cell_type": "code",
   "execution_count": 124,
   "metadata": {},
   "outputs": [
    {
     "name": "stdout",
     "output_type": "stream",
     "text": [
      "No. of uppercase letters =  2\n",
      "No. of lowercase letters =  10\n"
     ]
    }
   ],
   "source": [
    "#count uppercase and lowercase\n",
    "def count(string) :\n",
    "    upper=0\n",
    "    lower=0\n",
    "    for i in string :\n",
    "        if i.isupper():\n",
    "            upper+=1\n",
    "        else:\n",
    "            lower+=1 \n",
    "    print(\"No. of uppercase letters = \" , upper)\n",
    "    print(\"No. of lowercase letters = \" , lower)\n",
    "    \n",
    "count(\"WajihaQaiser\")"
   ]
  },
  {
   "cell_type": "code",
   "execution_count": 126,
   "metadata": {},
   "outputs": [
    {
     "name": "stdout",
     "output_type": "stream",
     "text": [
      "20\n",
      "88\n",
      "0\n",
      "46\n",
      "72\n"
     ]
    }
   ],
   "source": [
    "#even nos.\n",
    "num=[15,20,88,105,0,99,1005,46,72]\n",
    "def even_num(num) :\n",
    "    for i in num :\n",
    "        if i % 2 == 0 :\n",
    "            print( i )\n",
    "            \n",
    "even_num(num)"
   ]
  },
  {
   "cell_type": "code",
   "execution_count": 128,
   "metadata": {},
   "outputs": [
    {
     "name": "stdout",
     "output_type": "stream",
     "text": [
      "madam is Palindrome\n",
      "Hello is not Palindrome\n",
      "ABBA is Palindrome\n"
     ]
    }
   ],
   "source": [
    "#check palindrome\n",
    "def reverse(str): \n",
    "    return str[::-1] \n",
    "\n",
    "def isPalindrome(str) :\n",
    "    \n",
    "    rev=reverse(str)\n",
    "    if rev == str :\n",
    "        print(str + \" is Palindrome\")\n",
    "    else:\n",
    "        print(str + \" is not Palindrome\")\n",
    "        \n",
    "isPalindrome(\"madam\")\n",
    "isPalindrome(\"Hello\")\n",
    "isPalindrome(\"ABBA\")\n"
   ]
  },
  {
   "cell_type": "code",
   "execution_count": 129,
   "metadata": {},
   "outputs": [
    {
     "name": "stdout",
     "output_type": "stream",
     "text": [
      "7 is a prime number\n",
      "21 is not a prime number\n",
      "100 is not a prime number\n"
     ]
    }
   ],
   "source": [
    "#check prime no.\n",
    "def isPrime(num) :\n",
    "    for i in range(2,num):\n",
    "        if num % i == 0 :\n",
    "            print(str(num) + \" is not a prime number\")\n",
    "            break\n",
    "    else:\n",
    "    \n",
    "        print(str(num) + \" is a prime number\")\n",
    "            #break\n",
    "\n",
    "isPrime(7)\n",
    "isPrime(21)\n",
    "isPrime(100)"
   ]
  },
  {
   "cell_type": "code",
   "execution_count": 130,
   "metadata": {},
   "outputs": [
    {
     "name": "stdout",
     "output_type": "stream",
     "text": [
      "jewellery\n",
      "lipstick\n",
      "eyeliner\n",
      "shoes\n",
      "clothes\n",
      "bags\n",
      "lashes\n"
     ]
    }
   ],
   "source": [
    "#shopping list\n",
    "def market(*shoppingList) :\n",
    "    for i in shoppingList :\n",
    "        print( i )\n",
    "        \n",
    "market(\"jewellery\",\"lipstick\",\"eyeliner\",\"shoes\",\"clothes\",\"bags\",\"lashes\")"
   ]
  },
  {
   "cell_type": "code",
   "execution_count": null,
   "metadata": {},
   "outputs": [],
   "source": []
  }
 ],
 "metadata": {
  "kernelspec": {
   "display_name": "Python 3",
   "language": "python",
   "name": "python3"
  },
  "language_info": {
   "codemirror_mode": {
    "name": "ipython",
    "version": 3
   },
   "file_extension": ".py",
   "mimetype": "text/x-python",
   "name": "python",
   "nbconvert_exporter": "python",
   "pygments_lexer": "ipython3",
   "version": "3.7.3"
  }
 },
 "nbformat": 4,
 "nbformat_minor": 2
}
