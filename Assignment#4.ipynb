{
 "cells": [
  {
   "cell_type": "code",
   "execution_count": 64,
   "metadata": {},
   "outputs": [
    {
     "name": "stdout",
     "output_type": "stream",
     "text": [
      "{'first_name': 'Wajiha', 'last_name': 'Qaiser', 'age': 20, 'city': 'KARACHI'}\n"
     ]
    }
   ],
   "source": [
    "info = {\"first_name\" : \"Wajiha\" ,\"last_name\"  : \"Qaiser\", \"age\" : 20, \"city\" : \"KARACHI\"} \n",
    "info [\"qualification\"] = \"secondary level\"\n",
    "info.update({\"qualification\": \"high academic level\"})\n",
    "del info[\"qualification\"]\n",
    "print ( info) "
   ]
  },
  {
   "cell_type": "code",
   "execution_count": 68,
   "metadata": {},
   "outputs": [
    {
     "name": "stdout",
     "output_type": "stream",
     "text": [
      "[{'city_name': 'karachi', 'country': 'pakistan', 'population': '21.2 million (2019)', 'fact': ' it is best known for being the business hub of Pakistan '}, {'city_name': 'lahore', 'country': 'pakistan', 'population': '11.13 million (2017)', 'fact': '  it is best known for its rich culture and lively atmosphere.'}, {'city_name': 'peshawar', 'country': 'pakistan', 'population': '1.97 million (2017)', 'fact': 'it is best known for its food and tourism'}]\n"
     ]
    }
   ],
   "source": [
    "cities = {\"karachi\" : [] , \"lahore\"  : [ ], \"peshawar\" : []}\n",
    "information_about_each_city = [{\"city_name\" : \"karachi\",\"country\"  : \"pakistan\",\"population\" : \"21.2 million (2019)\",\"fact\" : \" it is best known for being the business hub of Pakistan \"},{\"city_name\" : \"lahore\",\"country\"  : \"pakistan\",\"population\" : \"11.13 million (2017)\",\"fact\" : \"  it is best known for its rich culture and lively atmosphere.\"}, { \"city_name\" : \"peshawar\",\"country\"  : \"pakistan\",\"population\" : \"1.97 million (2017)\",\"fact\" : \"it is best known for its food and tourism\"}]\n",
    "print(information_about_each_city)"
   ]
  },
  {
   "cell_type": "code",
   "execution_count": 4,
   "metadata": {},
   "outputs": [
    {
     "name": "stdout",
     "output_type": "stream",
     "text": [
      "please enter your age30\n",
      "  Your ticket is $15.\n"
     ]
    }
   ],
   "source": [
    "a = \"please enter your age\"\n",
    "age = input(a)\n",
    "age = int(age)\n",
    "if age < 3:\n",
    "    print(\"  You get in free\")\n",
    "elif age >= 3 and age < 13 :\n",
    "    print(\"  Your ticket is $10.\")\n",
    "elif age > 12:\n",
    "    print(\"  Your ticket is $15.\")"
   ]
  },
  {
   "cell_type": "code",
   "execution_count": 7,
   "metadata": {},
   "outputs": [
    {
     "name": "stdout",
     "output_type": "stream",
     "text": [
      "  One of my favorite books is  Alice in Wonderland\n"
     ]
    }
   ],
   "source": [
    "def favorite_book(title):\n",
    "    print( \"  One of my favorite books is \" + title )\n",
    "    \n",
    "favorite_book(' Alice in Wonderland')"
   ]
  },
  {
   "cell_type": "code",
   "execution_count": 63,
   "metadata": {},
   "outputs": [
    {
     "name": "stdout",
     "output_type": "stream",
     "text": [
      "Guess a number between 1 and 30. You have 3 rounds to try and guess correctly\n",
      "Enter an integer:5\n",
      "Try Higher\n",
      "Enter an integer:8\n",
      "Try Higher\n",
      "Enter an integer:15\n",
      "Try Higher\n",
      "You didn't guess correctly in 3 rounds. You lost.\n"
     ]
    }
   ],
   "source": [
    "import random\n",
    "def number_guessing_game(low, high, rounds):\n",
    "    print(\"Guess a number between {low} and {high}. You have {rounds} rounds to try and guess correctly\" .format(low=low, high=high, rounds=rounds))\n",
    "    number = random.randint(low, high)\n",
    "    \n",
    "    for _ in range(rounds):\n",
    "        guess = input(\"Enter an integer:\")\n",
    "    \n",
    "        try:\n",
    "            integer = int(guess)\n",
    "            if integer == number :\n",
    "                print('You won!!!')\n",
    "                return\n",
    "           \n",
    "            elif integer < number:\n",
    "                print('Try Higher')\n",
    "            elif integer > number:\n",
    "                print('Try Lower')\n",
    "    \n",
    "        except ValueError:\n",
    "            print(\"You must enter a valid integer.\")\n",
    "    print(\"You didn't guess correctly in {rounds} rounds. You lost.\" .format(rounds=rounds))\n",
    "    \n",
    "number_guessing_game(1, 30, 3)\n",
    "   "
   ]
  }
 ],
 "metadata": {
  "kernelspec": {
   "display_name": "Python 3",
   "language": "python",
   "name": "python3"
  },
  "language_info": {
   "codemirror_mode": {
    "name": "ipython",
    "version": 3
   },
   "file_extension": ".py",
   "mimetype": "text/x-python",
   "name": "python",
   "nbconvert_exporter": "python",
   "pygments_lexer": "ipython3",
   "version": "3.7.3"
  }
 },
 "nbformat": 4,
 "nbformat_minor": 2
}
