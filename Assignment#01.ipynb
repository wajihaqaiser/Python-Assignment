{
 "cells": [
  {
   "cell_type": "code",
   "execution_count": 2,
   "metadata": {},
   "outputs": [
    {
     "name": "stdout",
     "output_type": "stream",
     "text": [
      "Twinkle, twinkle, little star,\n",
      "      How I wonder what you are!\n",
      "            Up above the world so high,\n",
      "            Like a diamond in the sky.\n",
      "Twinkle, twinkle, little star,\n",
      "      How I wonder what you are \n"
     ]
    }
   ],
   "source": [
    "print(\"Twinkle, twinkle, little star,\\n      How I wonder what you are!\\n            Up above the world so high,\\n            Like a diamond in the sky.\\nTwinkle, twinkle, little star,\\n      How I wonder what you are \")"
   ]
  },
  {
   "cell_type": "code",
   "execution_count": 1,
   "metadata": {},
   "outputs": [
    {
     "name": "stdout",
     "output_type": "stream",
     "text": [
      "Python Version --> 3.7.3 (default, Mar 28 2019, 10:38:38) [MSC v.1915 32 bit (Intel)]\n",
      "sys.version_info(major=3, minor=7, micro=3, releaselevel='final', serial=0)\n"
     ]
    }
   ],
   "source": [
    "#Python Version\n",
    "import sys\n",
    "print(\"Python Version --> \" + sys.version)\n",
    "print(sys.version_info)"
   ]
  },
  {
   "cell_type": "code",
   "execution_count": 3,
   "metadata": {},
   "outputs": [
    {
     "name": "stdout",
     "output_type": "stream",
     "text": [
      "2019-11-03 23:37:01.522817\n",
      "November 03,2019  23:37:01\n"
     ]
    }
   ],
   "source": [
    "#Current Date Time\n",
    "from datetime import datetime\n",
    "date_time=datetime.now()\n",
    "print(date_time)\n",
    "print(date_time.strftime(\"%B %d,%Y  %H:%M:%S\"))"
   ]
  },
  {
   "cell_type": "code",
   "execution_count": 5,
   "metadata": {},
   "outputs": [
    {
     "name": "stdout",
     "output_type": "stream",
     "text": [
      "Enter radius of circle : 2.5\n",
      "Area of circle =  19.634954084936208\n"
     ]
    }
   ],
   "source": [
    "#Area\n",
    "import math\n",
    "radius=float(input(\"Enter radius of circle : \"))\n",
    "area=math.pi * radius ** 2\n",
    "print(\"Area of circle = \" , area)"
   ]
  },
  {
   "cell_type": "code",
   "execution_count": 9,
   "metadata": {},
   "outputs": [
    {
     "name": "stdout",
     "output_type": "stream",
     "text": [
      "Enter your first name --> wajiha\n",
      "Enter your last name --> qaiser\n",
      "qaiser wajiha\n"
     ]
    }
   ],
   "source": [
    "#Reverse \n",
    "first_name=input(\"Enter your first name --> \")\n",
    "last_name=input(\"Enter your last name --> \")\n",
    "print(last_name + \" \" +  first_name)"
   ]
  },
  {
   "cell_type": "code",
   "execution_count": 10,
   "metadata": {},
   "outputs": [
    {
     "name": "stdout",
     "output_type": "stream",
     "text": [
      "Enter 1st number : 1000\n",
      "Enter 2nd number : 0.5\n",
      "Sum of two numbers =  1000.5\n"
     ]
    }
   ],
   "source": [
    "#Addition\n",
    "num1=float(input(\"Enter 1st number : \"))\n",
    "num2=float(input(\"Enter 2nd number : \"))\n",
    "sum = num1 + num2\n",
    "print(\"Sum of two numbers = \" , sum)"
   ]
  }
 ],
 "metadata": {
  "kernelspec": {
   "display_name": "Python 3",
   "language": "python",
   "name": "python3"
  },
  "language_info": {
   "codemirror_mode": {
    "name": "ipython",
    "version": 3
   },
   "file_extension": ".py",
   "mimetype": "text/x-python",
   "name": "python",
   "nbconvert_exporter": "python",
   "pygments_lexer": "ipython3",
   "version": "3.7.3"
  }
 },
 "nbformat": 4,
 "nbformat_minor": 2
}
