{
 "cells": [
  {
   "cell_type": "code",
   "execution_count": 2,
   "metadata": {},
   "outputs": [
    {
     "name": "stdout",
     "output_type": "stream",
     "text": [
      "Enter 1st subject marks = 66\n",
      "Enter 2nd subject marks = 59\n",
      "Enter 3rd subject marks = 61\n",
      "Enter 4th subject marks = 88\n",
      "Enter 5th subject marks = 93\n",
      "Percentage: 73.4 %\n",
      "Grade: 'A' \n"
     ]
    }
   ],
   "source": [
    "#MARK SHEET\n",
    "num1=float(input(\"Enter 1st subject marks = \"))\n",
    "num2=float(input(\"Enter 2nd subject marks = \"))\n",
    "num3=float(input(\"Enter 3rd subject marks = \"))\n",
    "num4=float(input(\"Enter 4th subject marks = \"))\n",
    "num5=float(input(\"Enter 5th subject marks = \"))\n",
    "sum=num1+num2+num3+num4+num5\n",
    "per=(sum*100)/500\n",
    "print(\"Percentage:\",per,\"%\")\n",
    "if per >= 80 :\n",
    "    print(\"Grade: 'A+' \")\n",
    "elif per >= 70 :\n",
    "    print(\"Grade: 'A' \")\n",
    "elif per >= 60 :\n",
    "    print(\"Grade: 'B' \")  \n",
    "elif per >= 50 :\n",
    "    print(\"Grade: 'C' \")\n",
    "elif per >= 40 :\n",
    "    print(\"Grade: 'D' \")\n",
    "else:\n",
    "    print(\"FAIL\")"
   ]
  },
  {
   "cell_type": "code",
   "execution_count": 3,
   "metadata": {},
   "outputs": [
    {
     "name": "stdout",
     "output_type": "stream",
     "text": [
      "Enter any number = 77\n",
      "Odd Number\n"
     ]
    }
   ],
   "source": [
    "#EVEN ODD\n",
    "num=int(input(\"Enter any number = \"))\n",
    "if num%2 == 0:\n",
    "    print(\"Even Number\")\n",
    "else:\n",
    "    print(\"Odd Number\")"
   ]
  },
  {
   "cell_type": "code",
   "execution_count": 4,
   "metadata": {},
   "outputs": [
    {
     "name": "stdout",
     "output_type": "stream",
     "text": [
      "12\n"
     ]
    }
   ],
   "source": [
    "#LENGTH OF LIST\n",
    "a = [1, 20,100,3, 5, 8, 13, 21, 34, 55, 89,0]\n",
    "print(len(a))"
   ]
  },
  {
   "cell_type": "code",
   "execution_count": 1,
   "metadata": {},
   "outputs": [
    {
     "name": "stdout",
     "output_type": "stream",
     "text": [
      "25\n"
     ]
    }
   ],
   "source": [
    "#SUM IN A LIST\n",
    "m=[1,9,15]\n",
    "print(sum(m))"
   ]
  },
  {
   "cell_type": "code",
   "execution_count": 5,
   "metadata": {},
   "outputs": [
    {
     "name": "stdout",
     "output_type": "stream",
     "text": [
      "1056\n"
     ]
    }
   ],
   "source": [
    "#LARGEST NO. OF LIST\n",
    "a = [1, 20,250, 2, 3, 5, 8, 1056, 21, 34, 55, 89]\n",
    "print(max(a))"
   ]
  },
  {
   "cell_type": "code",
   "execution_count": 6,
   "metadata": {},
   "outputs": [
    {
     "name": "stdout",
     "output_type": "stream",
     "text": [
      "1\n",
      "2\n",
      "0\n",
      "3\n",
      "4\n",
      "0\n"
     ]
    }
   ],
   "source": [
    "#LESS THAN 5\n",
    "a = [1,2,0,3,4,5,6,7,0]\n",
    "for i in a :\n",
    "    if i < 5:\n",
    "       print(i)"
   ]
  },
  {
   "cell_type": "code",
   "execution_count": null,
   "metadata": {},
   "outputs": [],
   "source": []
  }
 ],
 "metadata": {
  "kernelspec": {
   "display_name": "Python 3",
   "language": "python",
   "name": "python3"
  },
  "language_info": {
   "codemirror_mode": {
    "name": "ipython",
    "version": 3
   },
   "file_extension": ".py",
   "mimetype": "text/x-python",
   "name": "python",
   "nbconvert_exporter": "python",
   "pygments_lexer": "ipython3",
   "version": "3.7.3"
  }
 },
 "nbformat": 4,
 "nbformat_minor": 2
}
