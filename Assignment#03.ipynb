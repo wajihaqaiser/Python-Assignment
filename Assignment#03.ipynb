{
 "cells": [
  {
   "cell_type": "code",
   "execution_count": 16,
   "metadata": {},
   "outputs": [
    {
     "name": "stdout",
     "output_type": "stream",
     "text": [
      "Enter 1st num:84\n",
      "Enter 2nd num:5\n",
      "Enter any operator:/\n",
      "84 / 5 = 16.8\n"
     ]
    }
   ],
   "source": [
    "#Calculator\n",
    "inp1=int(input(\"Enter 1st num:\"))\n",
    "inp2=int(input(\"Enter 2nd num:\"))\n",
    "ope=input(\"Enter any operator:\")\n",
    "l=['+' , '-' , '*' , '/' , '**']\n",
    "if ope == l[0] :\n",
    "    print(inp1 , \"+\" , inp2 , \"=\" , (inp1 + inp2) )\n",
    "elif ope == l[1] :\n",
    "    print(inp1 , \"-\" , inp2 , \"=\" ,(inp1 - inp2))\n",
    "elif ope == l[2] :\n",
    "    print(inp1 , \"*\" , inp2 , \"=\" ,(inp1 * inp2))\n",
    "elif ope == l[3] :\n",
    "    print(inp1 , \"/\" , inp2 , \"=\" ,(inp1 / inp2))\n",
    "elif ope == l[4] :\n",
    "    print(inp1 , \"**\" , inp2 , \"=\" ,(inp1 ** inp2))\n",
    "    \n",
    "else : \n",
    "    print(\"wrong input\")"
   ]
  },
  {
   "cell_type": "code",
   "execution_count": 2,
   "metadata": {},
   "outputs": [
    {
     "name": "stdout",
     "output_type": "stream",
     "text": [
      "2\n",
      "3\n",
      "0\n"
     ]
    }
   ],
   "source": [
    "#Numeric values\n",
    "list=['khi' , '1qqq' , '2' , '3' , '5.9' , 'red' ,  '2a' ,'0']\n",
    "for i in list :\n",
    "    if i.isnumeric() :\n",
    "        print(i)\n",
    "    "
   ]
  },
  {
   "cell_type": "code",
   "execution_count": 3,
   "metadata": {},
   "outputs": [
    {
     "name": "stdout",
     "output_type": "stream",
     "text": [
      "{'key1': 'color', 'key2': 'length', 'key3': 'width'}\n",
      "{'key1': 'color', 'key2': 'length', 'key3': 'width', 'flower': 'rose'}\n",
      "{'key1': 'color', 'key2': 'length', 'key3': 'width', 'flower': 'rose', 'key4': 'Hello', 'key5': ' Wajiha '}\n"
     ]
    }
   ],
   "source": [
    "#Add a key to dict\n",
    "dict={\"key1\" :'color' , \"key2\" : 'length' , \"key3\" :  \"width\"}\n",
    "print(dict)\n",
    "dict.update({\"flower\" : \"rose\"})\n",
    "print(dict)\n",
    "dict[\"key4\"] = \"Hello\"\n",
    "dict[\"key5\"] = \" Wajiha \"\n",
    "print(dict)"
   ]
  },
  {
   "cell_type": "code",
   "execution_count": 4,
   "metadata": {},
   "outputs": [
    {
     "name": "stdout",
     "output_type": "stream",
     "text": [
      "40\n"
     ]
    }
   ],
   "source": [
    "#sum\n",
    "dict={\"key1\" :10 , \"key2\" : 50 , \"key3\" :  -20}\n",
    "print(sum(dict.values()))"
   ]
  },
  {
   "cell_type": "code",
   "execution_count": 9,
   "metadata": {},
   "outputs": [
    {
     "name": "stdout",
     "output_type": "stream",
     "text": [
      "[1, 4, 5, 99, 0]\n"
     ]
    }
   ],
   "source": [
    "#Duplicate values\n",
    "list=[1,1,2,4,5,5,5,4,12,77,99,0,0,99]\n",
    "repeated = [] \n",
    "for i in range(len(list)):\n",
    "    k = i + 1\n",
    "    for j in range(k, len(list)):\n",
    "        if list[i] == list[j] and list[i] not in repeated: \n",
    "                repeated.append(list[i]) \n",
    "print(repeated)"
   ]
  },
  {
   "cell_type": "code",
   "execution_count": 12,
   "metadata": {},
   "outputs": [
    {
     "name": "stdout",
     "output_type": "stream",
     "text": [
      "Present,  key5: -66\n"
     ]
    }
   ],
   "source": [
    "#Check key already exists or not\n",
    "dict={\"key1\" :100 , \"key2\" : 75, \"key3\" :  0 , \"key4\" :  9.9 , \"key5\" :  -66 , \"key6\" :  \"name\"}\n",
    "key = \"key5\"\n",
    "if key in dict.keys() :\n",
    "    print(\"Present,\" + \"  \" + key + \":\" , dict[key])\n",
    "else: \n",
    "    print(\"Not present\")"
   ]
  },
  {
   "cell_type": "code",
   "execution_count": null,
   "metadata": {},
   "outputs": [],
   "source": []
  }
 ],
 "metadata": {
  "kernelspec": {
   "display_name": "Python 3",
   "language": "python",
   "name": "python3"
  },
  "language_info": {
   "codemirror_mode": {
    "name": "ipython",
    "version": 3
   },
   "file_extension": ".py",
   "mimetype": "text/x-python",
   "name": "python",
   "nbconvert_exporter": "python",
   "pygments_lexer": "ipython3",
   "version": "3.7.3"
  }
 },
 "nbformat": 4,
 "nbformat_minor": 2
}
